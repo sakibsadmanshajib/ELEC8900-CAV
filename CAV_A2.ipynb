{
  "metadata": {
    "kernelspec": {
      "display_name": "Python 3",
      "name": "python3"
    },
    "language_info": {
      "name": "python",
      "version": "3.10.14",
      "mimetype": "text/x-python",
      "codemirror_mode": {
        "name": "ipython",
        "version": 3
      },
      "pygments_lexer": "ipython3",
      "nbconvert_exporter": "python",
      "file_extension": ".py"
    },
    "kaggle": {
      "accelerator": "gpu",
      "dataSources": [
        {
          "sourceId": 191501,
          "sourceType": "datasetVersion",
          "datasetId": 82373
        }
      ],
      "dockerImageVersionId": 30787,
      "isInternetEnabled": true,
      "language": "python",
      "sourceType": "notebook",
      "isGpuEnabled": true
    },
    "colab": {
      "provenance": [],
      "gpuType": "T4",
      "include_colab_link": true
    },
    "accelerator": "GPU"
  },
  "nbformat_minor": 0,
  "nbformat": 4,
  "cells": [
    {
      "cell_type": "markdown",
      "metadata": {
        "id": "view-in-github",
        "colab_type": "text"
      },
      "source": [
        "<a href=\"https://colab.research.google.com/github/sakibsadmanshajib/ELEC8900-CAV/blob/main/CAV_A2.ipynb\" target=\"_parent\"><img src=\"https://colab.research.google.com/assets/colab-badge.svg\" alt=\"Open In Colab\"/></a>"
      ]
    },
    {
      "source": [
        "# IMPORTANT: RUN THIS CELL IN ORDER TO IMPORT YOUR KAGGLE DATA SOURCES,\n",
        "# THEN FEEL FREE TO DELETE THIS CELL.\n",
        "# NOTE: THIS NOTEBOOK ENVIRONMENT DIFFERS FROM KAGGLE'S PYTHON\n",
        "# ENVIRONMENT SO THERE MAY BE MISSING LIBRARIES USED BY YOUR\n",
        "# NOTEBOOK.\n",
        "import kagglehub\n",
        "meowmeowmeowmeowmeow_gtsrb_german_traffic_sign_path = kagglehub.dataset_download('meowmeowmeowmeowmeow/gtsrb-german-traffic-sign')\n",
        "\n",
        "print('Data source import complete.')\n"
      ],
      "metadata": {
        "id": "YiKP4ZI1uh-l",
        "outputId": "e3365015-53a8-4d1b-9e5f-153091b47f30",
        "colab": {
          "base_uri": "https://localhost:8080/"
        }
      },
      "cell_type": "code",
      "outputs": [
        {
          "output_type": "stream",
          "name": "stdout",
          "text": [
            "Data source import complete.\n"
          ]
        }
      ],
      "execution_count": null
    },
    {
      "cell_type": "code",
      "source": [
        "import os\n",
        "import numpy as np\n",
        "import pandas as pd\n",
        "import matplotlib.pyplot as plt\n",
        "import tensorflow as tf\n",
        "from tensorflow.keras.models import Sequential\n",
        "from tensorflow.keras.layers import Conv2D, MaxPooling2D, Dense, Flatten, Dropout, BatchNormalization, GlobalAveragePooling2D\n",
        "from sklearn.model_selection import train_test_split\n",
        "from tensorflow.keras.utils import to_categorical\n",
        "from tensorflow.keras.callbacks import EarlyStopping, ReduceLROnPlateau\n",
        "from PIL import Image\n",
        "import concurrent.futures\n",
        "from sklearn.metrics import confusion_matrix, accuracy_score, precision_score, recall_score, f1_score"
      ],
      "metadata": {
        "_uuid": "8f2839f25d086af736a60e9eeb907d3b93b6e0e5",
        "_cell_guid": "b1076dfc-b9ad-4769-8c92-a6c4dae69d19",
        "trusted": true,
        "execution": {
          "iopub.status.busy": "2024-11-05T22:24:33.944836Z",
          "iopub.execute_input": "2024-11-05T22:24:33.945268Z",
          "iopub.status.idle": "2024-11-05T22:24:46.685428Z",
          "shell.execute_reply.started": "2024-11-05T22:24:33.945225Z",
          "shell.execute_reply": "2024-11-05T22:24:46.684637Z"
        },
        "id": "7NW8dpkouh-m"
      },
      "outputs": [],
      "execution_count": null
    },
    {
      "cell_type": "markdown",
      "source": [
        "# Enable GPU usage"
      ],
      "metadata": {
        "id": "93GQ6TjKuh-m"
      }
    },
    {
      "cell_type": "code",
      "source": [
        "physical_devices = tf.config.list_physical_devices('GPU')\n",
        "if len(physical_devices) > 0:\n",
        "    tf.config.experimental.set_memory_growth(physical_devices[0], True)\n",
        "    print(\"GPU is available and will be used for training.\")\n",
        "else:\n",
        "    print(\"GPU is not available. Using CPU.\")"
      ],
      "metadata": {
        "trusted": true,
        "execution": {
          "iopub.status.busy": "2024-11-05T22:24:46.686954Z",
          "iopub.execute_input": "2024-11-05T22:24:46.687503Z",
          "iopub.status.idle": "2024-11-05T22:24:46.9003Z",
          "shell.execute_reply.started": "2024-11-05T22:24:46.687432Z",
          "shell.execute_reply": "2024-11-05T22:24:46.89937Z"
        },
        "id": "7d6I_Hj4uh-n",
        "outputId": "7db443cc-3109-49f3-bdeb-4e57a357e0d1",
        "colab": {
          "base_uri": "https://localhost:8080/"
        }
      },
      "outputs": [
        {
          "output_type": "stream",
          "name": "stdout",
          "text": [
            "GPU is available and will be used for training.\n"
          ]
        }
      ],
      "execution_count": null
    },
    {
      "cell_type": "markdown",
      "source": [
        "# Paths to your Train and Test folders (update these paths)"
      ],
      "metadata": {
        "id": "3175laxwuh-o"
      }
    },
    {
      "cell_type": "code",
      "source": [
        "TRAIN_DIR = meowmeowmeowmeowmeow_gtsrb_german_traffic_sign_path\n",
        "TEST_DIR = meowmeowmeowmeowmeow_gtsrb_german_traffic_sign_path\n",
        "META_CSV = meowmeowmeowmeowmeow_gtsrb_german_traffic_sign_path + \"/Meta.csv\"\n",
        "TRAIN_CSV = meowmeowmeowmeowmeow_gtsrb_german_traffic_sign_path + \"/Train.csv\"\n",
        "TEST_CSV = meowmeowmeowmeowmeow_gtsrb_german_traffic_sign_path + \"/Test.csv\""
      ],
      "metadata": {
        "trusted": true,
        "execution": {
          "iopub.status.busy": "2024-11-05T22:24:46.901403Z",
          "iopub.execute_input": "2024-11-05T22:24:46.90179Z",
          "iopub.status.idle": "2024-11-05T22:24:46.93331Z",
          "shell.execute_reply.started": "2024-11-05T22:24:46.901754Z",
          "shell.execute_reply": "2024-11-05T22:24:46.932418Z"
        },
        "id": "JgJY3GIMuh-o"
      },
      "outputs": [],
      "execution_count": null
    },
    {
      "cell_type": "markdown",
      "source": [
        "# Load CSV data"
      ],
      "metadata": {
        "id": "CSwj8nNX38of"
      }
    },
    {
      "cell_type": "code",
      "source": [
        "meta_df = pd.read_csv(META_CSV)\n",
        "train_df = pd.read_csv(TRAIN_CSV)\n",
        "test_df = pd.read_csv(TEST_CSV)"
      ],
      "metadata": {
        "id": "wDhzwHXl36aE"
      },
      "execution_count": null,
      "outputs": []
    },
    {
      "cell_type": "markdown",
      "source": [
        "# Create a dictionary to map SignId to Sign names from Meta.csv"
      ],
      "metadata": {
        "id": "y6uK8MwH4Fjl"
      }
    },
    {
      "cell_type": "code",
      "source": [
        "sign_id_to_name = {\n",
        "    0: \"Speed limit (20km/h)\",\n",
        "    1: \"Speed limit (30km/h)\",\n",
        "    2: \"Speed limit (50km/h)\",\n",
        "    3: \"Speed limit (60km/h)\",\n",
        "    4: \"Speed limit (70km/h)\",\n",
        "    5: \"Speed limit (80km/h)\",\n",
        "    6: \"End of speed limit (80km/h)\",\n",
        "    7: \"Speed limit (100km/h)\",\n",
        "    8: \"Speed limit (120km/h)\",\n",
        "    9: \"No passing\",\n",
        "    10: \"No passing for vehicles over 3.5 metric tons\",\n",
        "    11: \"Right-of-way at the next intersection\",\n",
        "    12: \"Priority road\",\n",
        "    13: \"Yield\",\n",
        "    14: \"Stop\",\n",
        "    15: \"No vehicles\",\n",
        "    16: \"Vehicles over 3.5 metric tons prohibited\",\n",
        "    17: \"No entry\",\n",
        "    18: \"General caution\",\n",
        "    19: \"Dangerous curve to the left\",\n",
        "    20: \"Dangerous curve to the right\",\n",
        "    21: \"Double curve\",\n",
        "    22: \"Bumpy road\",\n",
        "    23: \"Slippery road\",\n",
        "    24: \"Road narrows on the right\",\n",
        "    25: \"Road work\",\n",
        "    26: \"Traffic signals\",\n",
        "    27: \"Pedestrians\",\n",
        "    28: \"Children crossing\",\n",
        "    29: \"Bicycles crossing\",\n",
        "    30: \"Beware of ice/snow\",\n",
        "    31: \"Wild animals crossing\",\n",
        "    32: \"End of all speed and passing limits\",\n",
        "    33: \"Turn right ahead\",\n",
        "    34: \"Turn left ahead\",\n",
        "    35: \"Ahead only\",\n",
        "    36: \"Go straight or right\",\n",
        "    37: \"Go straight or left\",\n",
        "    38: \"Keep right\",\n",
        "    39: \"Keep left\",\n",
        "    40: \"Roundabout mandatory\",\n",
        "    41: \"End of no passing\",\n",
        "    42: \"End of no passing by vehicles over 3.5 metric tons\"\n",
        "}"
      ],
      "metadata": {
        "id": "2LV4e40x4DVM"
      },
      "execution_count": null,
      "outputs": []
    },
    {
      "cell_type": "markdown",
      "source": [
        "# Loading training data function with uniform resizing and cropping based on coordinates in Train.csv"
      ],
      "metadata": {
        "id": "O3rilu5kuh-o"
      }
    },
    {
      "cell_type": "code",
      "source": [
        "TARGET_SIZE = (75, 75)  # Define a consistent size for all images"
      ],
      "metadata": {
        "trusted": true,
        "execution": {
          "iopub.status.busy": "2024-11-05T22:24:46.935869Z",
          "iopub.execute_input": "2024-11-05T22:24:46.936563Z",
          "iopub.status.idle": "2024-11-05T22:24:46.943861Z",
          "shell.execute_reply.started": "2024-11-05T22:24:46.936519Z",
          "shell.execute_reply": "2024-11-05T22:24:46.94301Z"
        },
        "id": "4ddNyvRDuh-p"
      },
      "outputs": [],
      "execution_count": null
    },
    {
      "cell_type": "code",
      "source": [
        "def load_image(image_path, roi_coords=None):\n",
        "    image = Image.open(image_path).convert('RGB')  # Ensure 3 channels (RGB)\n",
        "    if roi_coords:\n",
        "        image = image.crop(roi_coords)  # Crop based on the provided coordinates\n",
        "    image = image.resize(TARGET_SIZE)  # Resize to target size\n",
        "    return np.array(image, dtype=np.float32)"
      ],
      "metadata": {
        "trusted": true,
        "execution": {
          "iopub.status.busy": "2024-11-05T22:24:46.944964Z",
          "iopub.execute_input": "2024-11-05T22:24:46.945373Z",
          "iopub.status.idle": "2024-11-05T22:24:46.953408Z",
          "shell.execute_reply.started": "2024-11-05T22:24:46.945329Z",
          "shell.execute_reply": "2024-11-05T22:24:46.952496Z"
        },
        "id": "Nv4i2cFKuh-p"
      },
      "outputs": [],
      "execution_count": null
    },
    {
      "cell_type": "code",
      "source": [
        "def load_train_data(train_csv, data_dir):\n",
        "    images = []\n",
        "    labels = []\n",
        "    with concurrent.futures.ThreadPoolExecutor() as executor:\n",
        "        future_to_image = {}\n",
        "        for _, row in train_csv.iterrows():\n",
        "            image_path = os.path.join(data_dir, row['Path'])\n",
        "            roi_coords = (row['Roi.X1'], row['Roi.Y1'], row['Roi.X2'], row['Roi.Y2'])\n",
        "            future = executor.submit(load_image, image_path, roi_coords)\n",
        "            future_to_image[future] = row['ClassId']\n",
        "\n",
        "        for future in concurrent.futures.as_completed(future_to_image):\n",
        "            image = future.result()\n",
        "            label = future_to_image[future]\n",
        "            images.append(image)\n",
        "            labels.append(label)\n",
        "\n",
        "    images = np.stack(images, axis=0)  # Stack images into a uniform array\n",
        "    labels = np.array(labels)\n",
        "    return images, labels"
      ],
      "metadata": {
        "trusted": true,
        "execution": {
          "iopub.status.busy": "2024-11-05T22:24:46.954532Z",
          "iopub.execute_input": "2024-11-05T22:24:46.954835Z",
          "iopub.status.idle": "2024-11-05T22:24:46.965033Z",
          "shell.execute_reply.started": "2024-11-05T22:24:46.954804Z",
          "shell.execute_reply": "2024-11-05T22:24:46.964254Z"
        },
        "id": "e1UT3PeMuh-p"
      },
      "outputs": [],
      "execution_count": null
    },
    {
      "cell_type": "markdown",
      "source": [
        "# Loading test data function with uniform resizing and cropping based on coordinates in Test.csv"
      ],
      "metadata": {
        "id": "guB4pONluh-p"
      }
    },
    {
      "cell_type": "code",
      "source": [
        "def load_test_data(test_csv, data_dir):\n",
        "    images = []\n",
        "    labels = []\n",
        "    with concurrent.futures.ThreadPoolExecutor() as executor:\n",
        "        future_to_image = {}\n",
        "        for _, row in test_csv.iterrows():\n",
        "            image_path = os.path.join(data_dir, row['Path'])\n",
        "            roi_coords = (row['Roi.X1'], row['Roi.Y1'], row['Roi.X2'], row['Roi.Y2'])\n",
        "            future = executor.submit(load_image, image_path, roi_coords)\n",
        "            future_to_image[future] = row['ClassId']\n",
        "\n",
        "        for future in concurrent.futures.as_completed(future_to_image):\n",
        "            image = future.result()\n",
        "            label = future_to_image[future]\n",
        "            images.append(image)\n",
        "            labels.append(label)\n",
        "\n",
        "    images = np.stack(images, axis=0)  # Stack images into a uniform array\n",
        "    labels = np.array(labels)\n",
        "    return images, labels"
      ],
      "metadata": {
        "trusted": true,
        "execution": {
          "iopub.status.busy": "2024-11-05T22:24:46.966152Z",
          "iopub.execute_input": "2024-11-05T22:24:46.966763Z",
          "iopub.status.idle": "2024-11-05T22:24:46.976889Z",
          "shell.execute_reply.started": "2024-11-05T22:24:46.966721Z",
          "shell.execute_reply": "2024-11-05T22:24:46.976132Z"
        },
        "id": "9kmJZdh8uh-q"
      },
      "outputs": [],
      "execution_count": null
    },
    {
      "cell_type": "markdown",
      "source": [
        "# Load the training and testing data"
      ],
      "metadata": {
        "id": "h8Z15RE0uh-q"
      }
    },
    {
      "cell_type": "code",
      "source": [
        "train_images, train_labels = load_train_data(train_df, TRAIN_DIR)\n",
        "test_images, test_labels = load_test_data(test_df, TEST_DIR)"
      ],
      "metadata": {
        "trusted": true,
        "execution": {
          "iopub.status.busy": "2024-11-05T22:24:46.977817Z",
          "iopub.execute_input": "2024-11-05T22:24:46.978117Z",
          "iopub.status.idle": "2024-11-05T22:25:37.797261Z",
          "shell.execute_reply.started": "2024-11-05T22:24:46.978087Z",
          "shell.execute_reply": "2024-11-05T22:25:37.796463Z"
        },
        "id": "M80I5yv_uh-q"
      },
      "outputs": [],
      "execution_count": null
    },
    {
      "cell_type": "markdown",
      "source": [
        "# Normalize image data"
      ],
      "metadata": {
        "id": "pouyrQnNuh-q"
      }
    },
    {
      "cell_type": "code",
      "source": [
        "train_images = train_images / 255.0\n",
        "test_images = test_images / 255.0"
      ],
      "metadata": {
        "trusted": true,
        "execution": {
          "iopub.status.busy": "2024-11-05T22:25:37.798716Z",
          "iopub.execute_input": "2024-11-05T22:25:37.799097Z",
          "iopub.status.idle": "2024-11-05T22:25:38.808939Z",
          "shell.execute_reply.started": "2024-11-05T22:25:37.799054Z",
          "shell.execute_reply": "2024-11-05T22:25:38.808155Z"
        },
        "id": "0riukY9nuh-q"
      },
      "outputs": [],
      "execution_count": null
    },
    {
      "cell_type": "markdown",
      "source": [
        "# Convert labels to one-hot encoding"
      ],
      "metadata": {
        "id": "cAsikLY5uh-q"
      }
    },
    {
      "cell_type": "code",
      "source": [
        "train_labels = to_categorical(train_labels, num_classes=43)\n",
        "test_labels = to_categorical(test_labels, num_classes=43)"
      ],
      "metadata": {
        "trusted": true,
        "execution": {
          "iopub.status.busy": "2024-11-05T22:25:38.812754Z",
          "iopub.execute_input": "2024-11-05T22:25:38.813072Z",
          "iopub.status.idle": "2024-11-05T22:25:38.825529Z",
          "shell.execute_reply.started": "2024-11-05T22:25:38.813041Z",
          "shell.execute_reply": "2024-11-05T22:25:38.824649Z"
        },
        "id": "NTE-mKSquh-r"
      },
      "outputs": [],
      "execution_count": null
    },
    {
      "cell_type": "markdown",
      "source": [
        "# Train/validation split"
      ],
      "metadata": {
        "id": "niB83danuh-r"
      }
    },
    {
      "cell_type": "code",
      "source": [
        "train_images, val_images, train_labels, val_labels = train_test_split(train_images, train_labels, test_size=0.2, random_state=42)"
      ],
      "metadata": {
        "trusted": true,
        "execution": {
          "iopub.status.busy": "2024-11-05T22:25:38.826698Z",
          "iopub.execute_input": "2024-11-05T22:25:38.82707Z",
          "iopub.status.idle": "2024-11-05T22:25:39.605461Z",
          "shell.execute_reply.started": "2024-11-05T22:25:38.827026Z",
          "shell.execute_reply": "2024-11-05T22:25:39.604658Z"
        },
        "id": "R2TOfiwxuh-r"
      },
      "outputs": [],
      "execution_count": null
    },
    {
      "cell_type": "markdown",
      "source": [
        "# Data augmentation using TensorFlow's image augmentation pipeline"
      ],
      "metadata": {
        "id": "aAGndvu4uh-r"
      }
    },
    {
      "cell_type": "code",
      "source": [
        "data_augmentation = tf.keras.Sequential([\n",
        "    tf.keras.layers.RandomRotation(0.1),\n",
        "    tf.keras.layers.RandomZoom(0.1),\n",
        "    tf.keras.layers.RandomHeight(0.1),\n",
        "    tf.keras.layers.RandomWidth(0.1),\n",
        "    tf.keras.layers.RandomFlip('horizontal')\n",
        "])"
      ],
      "metadata": {
        "trusted": true,
        "execution": {
          "iopub.status.busy": "2024-11-05T22:25:39.606793Z",
          "iopub.execute_input": "2024-11-05T22:25:39.607177Z",
          "iopub.status.idle": "2024-11-05T22:25:39.612817Z",
          "shell.execute_reply.started": "2024-11-05T22:25:39.607134Z",
          "shell.execute_reply": "2024-11-05T22:25:39.611713Z"
        },
        "id": "oZdaWFMJuh-r"
      },
      "outputs": [],
      "execution_count": null
    },
    {
      "cell_type": "markdown",
      "source": [
        "# Building a custom CNN model"
      ],
      "metadata": {
        "id": "GL_zu_rfuh-r"
      }
    },
    {
      "cell_type": "code",
      "source": [
        "model = Sequential([\n",
        "    Conv2D(64, (3, 3), activation='relu', input_shape=(TARGET_SIZE[0], TARGET_SIZE[1], 3)),\n",
        "    BatchNormalization(),\n",
        "    Conv2D(64, (3, 3), activation='relu'),\n",
        "    BatchNormalization(),\n",
        "    MaxPooling2D(pool_size=(2, 2)),\n",
        "    Dropout(0.25),\n",
        "\n",
        "    Conv2D(128, (3, 3), activation='relu'),\n",
        "    BatchNormalization(),\n",
        "    Conv2D(128, (3, 3), activation='relu'),\n",
        "    BatchNormalization(),\n",
        "    MaxPooling2D(pool_size=(2, 2)),\n",
        "    Dropout(0.3),\n",
        "\n",
        "    Conv2D(256, (3, 3), activation='relu'),\n",
        "    BatchNormalization(),\n",
        "    Conv2D(256, (3, 3), activation='relu'),\n",
        "    BatchNormalization(),\n",
        "    MaxPooling2D(pool_size=(2, 2)),\n",
        "    Dropout(0.4),\n",
        "\n",
        "    Flatten(),\n",
        "    Dense(512, activation='relu'),\n",
        "    BatchNormalization(),\n",
        "    Dropout(0.5),\n",
        "    Dense(256, activation='relu'),\n",
        "    BatchNormalization(),\n",
        "    Dropout(0.5),\n",
        "    Dense(43, activation='softmax')\n",
        "])"
      ],
      "metadata": {
        "trusted": true,
        "execution": {
          "iopub.status.busy": "2024-11-05T22:25:40.992685Z",
          "iopub.execute_input": "2024-11-05T22:25:40.99299Z",
          "iopub.status.idle": "2024-11-05T22:25:41.011Z",
          "shell.execute_reply.started": "2024-11-05T22:25:40.992958Z",
          "shell.execute_reply": "2024-11-05T22:25:41.010263Z"
        },
        "id": "CyRBpQy6uh-r",
        "outputId": "077f5c90-06a1-497f-e052-773018977126",
        "colab": {
          "base_uri": "https://localhost:8080/"
        }
      },
      "outputs": [
        {
          "output_type": "stream",
          "name": "stderr",
          "text": [
            "/usr/local/lib/python3.10/dist-packages/keras/src/layers/convolutional/base_conv.py:107: UserWarning: Do not pass an `input_shape`/`input_dim` argument to a layer. When using Sequential models, prefer using an `Input(shape)` object as the first layer in the model instead.\n",
            "  super().__init__(activity_regularizer=activity_regularizer, **kwargs)\n"
          ]
        }
      ],
      "execution_count": null
    },
    {
      "cell_type": "markdown",
      "source": [
        "# Compile the model"
      ],
      "metadata": {
        "id": "O_A01NVLuh-s"
      }
    },
    {
      "cell_type": "code",
      "source": [
        "model.compile(optimizer=tf.keras.optimizers.Adam(learning_rate=0.0001), loss='categorical_crossentropy', metrics=['accuracy'])"
      ],
      "metadata": {
        "trusted": true,
        "execution": {
          "iopub.status.busy": "2024-11-05T22:25:41.011991Z",
          "iopub.execute_input": "2024-11-05T22:25:41.012283Z",
          "iopub.status.idle": "2024-11-05T22:25:41.026113Z",
          "shell.execute_reply.started": "2024-11-05T22:25:41.012253Z",
          "shell.execute_reply": "2024-11-05T22:25:41.025206Z"
        },
        "id": "uZIXRuk7uh-s"
      },
      "outputs": [],
      "execution_count": null
    },
    {
      "cell_type": "markdown",
      "source": [
        "# Add callbacks for early stopping and learning rate reduction"
      ],
      "metadata": {
        "id": "CNLsO1Jjuh-s"
      }
    },
    {
      "cell_type": "code",
      "source": [
        "early_stopping = EarlyStopping(monitor='val_accuracy', patience=10, restore_best_weights=True)\n",
        "reduce_lr = ReduceLROnPlateau(monitor='val_loss', factor=0.5, patience=5, min_lr=1e-6)"
      ],
      "metadata": {
        "trusted": true,
        "execution": {
          "iopub.status.busy": "2024-11-05T22:25:41.027146Z",
          "iopub.execute_input": "2024-11-05T22:25:41.027404Z",
          "iopub.status.idle": "2024-11-05T22:25:41.031701Z",
          "shell.execute_reply.started": "2024-11-05T22:25:41.027376Z",
          "shell.execute_reply": "2024-11-05T22:25:41.030795Z"
        },
        "id": "rIbi9tULuh-s"
      },
      "outputs": [],
      "execution_count": null
    },
    {
      "cell_type": "markdown",
      "source": [
        "# Train the model using data augmentation"
      ],
      "metadata": {
        "id": "572LavZruh-s"
      }
    },
    {
      "cell_type": "code",
      "source": [
        "steps_per_epoch = max(1, len(train_images) // 64)\n",
        "\n",
        "if len(train_images) > 0:\n",
        "    model.fit(\n",
        "        tf.data.Dataset.from_tensor_slices((train_images, train_labels))\n",
        "        .map(lambda x, y: (tf.image.random_flip_left_right(x), y))\n",
        "        .map(lambda x, y: (tf.image.random_brightness(x, max_delta=0.2), y))\n",
        "        .map(lambda x, y: (tf.image.random_contrast(x, 0.8, 1.2), y))\n",
        "        .shuffle(buffer_size=1024)\n",
        "        .batch(64),\n",
        "        epochs=15,\n",
        "        validation_data=(val_images, val_labels),\n",
        "        steps_per_epoch=steps_per_epoch,\n",
        "        callbacks=[early_stopping, reduce_lr]\n",
        "    )"
      ],
      "metadata": {
        "trusted": true,
        "execution": {
          "iopub.status.busy": "2024-11-05T22:25:41.032758Z",
          "iopub.execute_input": "2024-11-05T22:25:41.033081Z"
        },
        "id": "nOEvH9q9uh-s",
        "outputId": "ab3bcf1c-8c5c-469a-cd36-c7a14c6b28bb",
        "colab": {
          "base_uri": "https://localhost:8080/"
        }
      },
      "outputs": [
        {
          "output_type": "stream",
          "name": "stdout",
          "text": [
            "Epoch 1/15\n",
            "\u001b[1m490/490\u001b[0m \u001b[32m━━━━━━━━━━━━━━━━━━━━\u001b[0m\u001b[37m\u001b[0m \u001b[1m63s\u001b[0m 84ms/step - accuracy: 0.1612 - loss: 3.9156 - val_accuracy: 0.6358 - val_loss: 1.3779 - learning_rate: 1.0000e-04\n",
            "Epoch 2/15\n",
            "\u001b[1m  1/490\u001b[0m \u001b[37m━━━━━━━━━━━━━━━━━━━━\u001b[0m \u001b[1m1:15:47\u001b[0m 9s/step - accuracy: 0.5714 - loss: 1.5329"
          ]
        },
        {
          "output_type": "stream",
          "name": "stderr",
          "text": [
            "/usr/lib/python3.10/contextlib.py:153: UserWarning: Your input ran out of data; interrupting training. Make sure that your dataset or generator can generate at least `steps_per_epoch * epochs` batches. You may need to use the `.repeat()` function when building your dataset.\n",
            "  self.gen.throw(typ, value, traceback)\n"
          ]
        },
        {
          "output_type": "stream",
          "name": "stdout",
          "text": [
            "\b\b\b\b\b\b\b\b\b\b\b\b\b\b\b\b\b\b\b\b\b\b\b\b\b\b\b\b\b\b\b\b\b\b\b\b\b\b\b\b\b\b\b\b\b\b\b\b\b\b\b\b\b\b\b\b\b\b\b\b\b\b\b\b\b\b\b\b\b\b\b\b\b\b\b\b\b\b\r\u001b[1m490/490\u001b[0m \u001b[32m━━━━━━━━━━━━━━━━━━━━\u001b[0m\u001b[37m\u001b[0m \u001b[1m12s\u001b[0m 5ms/step - accuracy: 0.5714 - loss: 1.5329 - val_accuracy: 0.6303 - val_loss: 1.3784 - learning_rate: 1.0000e-04\n",
            "Epoch 3/15\n",
            "\u001b[1m490/490\u001b[0m \u001b[32m━━━━━━━━━━━━━━━━━━━━\u001b[0m\u001b[37m\u001b[0m \u001b[1m50s\u001b[0m 73ms/step - accuracy: 0.5903 - loss: 1.4467 - val_accuracy: 0.8753 - val_loss: 0.4336 - learning_rate: 1.0000e-04\n",
            "Epoch 4/15\n",
            "\u001b[1m490/490\u001b[0m \u001b[32m━━━━━━━━━━━━━━━━━━━━\u001b[0m\u001b[37m\u001b[0m \u001b[1m2s\u001b[0m 4ms/step - accuracy: 0.5714 - loss: 1.0868 - val_accuracy: 0.8735 - val_loss: 0.4396 - learning_rate: 1.0000e-04\n",
            "Epoch 5/15\n",
            "\u001b[1m490/490\u001b[0m \u001b[32m━━━━━━━━━━━━━━━━━━━━\u001b[0m\u001b[37m\u001b[0m \u001b[1m36s\u001b[0m 72ms/step - accuracy: 0.7669 - loss: 0.7921 - val_accuracy: 0.9336 - val_loss: 0.2364 - learning_rate: 1.0000e-04\n",
            "Epoch 6/15\n",
            "\u001b[1m490/490\u001b[0m \u001b[32m━━━━━━━━━━━━━━━━━━━━\u001b[0m\u001b[37m\u001b[0m \u001b[1m2s\u001b[0m 4ms/step - accuracy: 0.4286 - loss: 1.6690 - val_accuracy: 0.9311 - val_loss: 0.2373 - learning_rate: 1.0000e-04\n",
            "Epoch 7/15\n",
            "\u001b[1m490/490\u001b[0m \u001b[32m━━━━━━━━━━━━━━━━━━━━\u001b[0m\u001b[37m\u001b[0m \u001b[1m35s\u001b[0m 71ms/step - accuracy: 0.8439 - loss: 0.5349 - val_accuracy: 0.9547 - val_loss: 0.1554 - learning_rate: 1.0000e-04\n",
            "Epoch 8/15\n",
            "\u001b[1m490/490\u001b[0m \u001b[32m━━━━━━━━━━━━━━━━━━━━\u001b[0m\u001b[37m\u001b[0m \u001b[1m2s\u001b[0m 4ms/step - accuracy: 0.5714 - loss: 0.6905 - val_accuracy: 0.9492 - val_loss: 0.1756 - learning_rate: 1.0000e-04\n",
            "Epoch 9/15\n",
            "\u001b[1m490/490\u001b[0m \u001b[32m━━━━━━━━━━━━━━━━━━━━\u001b[0m\u001b[37m\u001b[0m \u001b[1m39s\u001b[0m 72ms/step - accuracy: 0.8842 - loss: 0.3983 - val_accuracy: 0.9665 - val_loss: 0.1167 - learning_rate: 1.0000e-04\n",
            "Epoch 10/15\n",
            "\u001b[1m490/490\u001b[0m \u001b[32m━━━━━━━━━━━━━━━━━━━━\u001b[0m\u001b[37m\u001b[0m \u001b[1m2s\u001b[0m 4ms/step - accuracy: 0.8571 - loss: 0.2619 - val_accuracy: 0.9671 - val_loss: 0.1154 - learning_rate: 1.0000e-04\n",
            "Epoch 11/15\n",
            "\u001b[1m490/490\u001b[0m \u001b[32m━━━━━━━━━━━━━━━━━━━━\u001b[0m\u001b[37m\u001b[0m \u001b[1m35s\u001b[0m 72ms/step - accuracy: 0.9166 - loss: 0.2899 - val_accuracy: 0.9708 - val_loss: 0.0908 - learning_rate: 1.0000e-04\n",
            "Epoch 12/15\n",
            "\u001b[1m490/490\u001b[0m \u001b[32m━━━━━━━━━━━━━━━━━━━━\u001b[0m\u001b[37m\u001b[0m \u001b[1m3s\u001b[0m 5ms/step - accuracy: 0.8571 - loss: 0.5611 - val_accuracy: 0.9717 - val_loss: 0.0903 - learning_rate: 1.0000e-04\n",
            "Epoch 13/15\n",
            "\u001b[1m490/490\u001b[0m \u001b[32m━━━━━━━━━━━━━━━━━━━━\u001b[0m\u001b[37m\u001b[0m \u001b[1m36s\u001b[0m 72ms/step - accuracy: 0.9332 - loss: 0.2357 - val_accuracy: 0.9781 - val_loss: 0.0714 - learning_rate: 1.0000e-04\n",
            "Epoch 14/15\n",
            "\u001b[1m490/490\u001b[0m \u001b[32m━━━━━━━━━━━━━━━━━━━━\u001b[0m\u001b[37m\u001b[0m \u001b[1m3s\u001b[0m 5ms/step - accuracy: 0.8571 - loss: 0.6256 - val_accuracy: 0.9782 - val_loss: 0.0711 - learning_rate: 1.0000e-04\n",
            "Epoch 15/15\n",
            "\u001b[1m490/490\u001b[0m \u001b[32m━━━━━━━━━━━━━━━━━━━━\u001b[0m\u001b[37m\u001b[0m \u001b[1m35s\u001b[0m 72ms/step - accuracy: 0.9469 - loss: 0.1920 - val_accuracy: 0.9801 - val_loss: 0.0645 - learning_rate: 1.0000e-04\n"
          ]
        }
      ],
      "execution_count": null
    },
    {
      "cell_type": "markdown",
      "source": [
        "# Evaluate the model on the validation set"
      ],
      "metadata": {
        "id": "KpHnsm6Yuh-s"
      }
    },
    {
      "cell_type": "code",
      "source": [
        "val_loss, val_accuracy = model.evaluate(val_images, val_labels)\n",
        "print(f'Validation Accuracy: {val_accuracy * 100:.2f}%')"
      ],
      "metadata": {
        "trusted": true,
        "id": "zQj6yJzuuh-t",
        "outputId": "75490184-8eb7-4fe1-e620-39668421d7a0",
        "colab": {
          "base_uri": "https://localhost:8080/"
        }
      },
      "outputs": [
        {
          "output_type": "stream",
          "name": "stdout",
          "text": [
            "\u001b[1m246/246\u001b[0m \u001b[32m━━━━━━━━━━━━━━━━━━━━\u001b[0m\u001b[37m\u001b[0m \u001b[1m2s\u001b[0m 10ms/step - accuracy: 0.9798 - loss: 0.0638\n",
            "Validation Accuracy: 98.01%\n"
          ]
        }
      ],
      "execution_count": null
    },
    {
      "cell_type": "markdown",
      "source": [
        "# Predictions for evaluation metrics"
      ],
      "metadata": {
        "id": "wdxnFx5q8DLC"
      }
    },
    {
      "cell_type": "code",
      "source": [
        "y_pred = model.predict(test_images)\n",
        "y_pred_classes = np.argmax(y_pred, axis=1)\n",
        "y_true_classes = np.argmax(test_labels, axis=1)"
      ],
      "metadata": {
        "id": "pq_Asiiv8Bkt",
        "outputId": "d2a20f71-53ce-4ac4-9b2b-046c182d1131",
        "colab": {
          "base_uri": "https://localhost:8080/"
        }
      },
      "execution_count": null,
      "outputs": [
        {
          "output_type": "stream",
          "name": "stdout",
          "text": [
            "\u001b[1m395/395\u001b[0m \u001b[32m━━━━━━━━━━━━━━━━━━━━\u001b[0m\u001b[37m\u001b[0m \u001b[1m5s\u001b[0m 11ms/step\n"
          ]
        }
      ]
    },
    {
      "cell_type": "markdown",
      "source": [
        "# Calculate evaluation metrics"
      ],
      "metadata": {
        "id": "3LK9VmEJ8FgA"
      }
    },
    {
      "cell_type": "code",
      "source": [
        "conf_matrix = confusion_matrix(y_true_classes, y_pred_classes)\n",
        "accuracy = accuracy_score(y_true_classes, y_pred_classes)\n",
        "precision = precision_score(y_true_classes, y_pred_classes, average='weighted')\n",
        "recall = recall_score(y_true_classes, y_pred_classes, average='weighted')\n",
        "f1 = f1_score(y_true_classes, y_pred_classes, average='weighted')"
      ],
      "metadata": {
        "id": "jZlq_d158I4b"
      },
      "execution_count": null,
      "outputs": []
    },
    {
      "cell_type": "markdown",
      "source": [
        "# Print evaluation metrics"
      ],
      "metadata": {
        "id": "tGMcbSlo8L5q"
      }
    },
    {
      "cell_type": "code",
      "source": [
        "print(f'Confusion Matrix:\\n{conf_matrix}')\n",
        "print(f'Accuracy: {accuracy * 100:.2f}%')\n",
        "print(f'Precision: {precision:.2f}')\n",
        "print(f'Recall: {recall:.2f}')\n",
        "print(f'F1 Score: {f1:.2f}')"
      ],
      "metadata": {
        "id": "gqLf4Op28Nhz",
        "outputId": "7bedb1eb-9223-46bf-853b-1a2fad627f8a",
        "colab": {
          "base_uri": "https://localhost:8080/"
        }
      },
      "execution_count": null,
      "outputs": [
        {
          "output_type": "stream",
          "name": "stdout",
          "text": [
            "Confusion Matrix:\n",
            "[[ 56   0   0 ...   0   0   0]\n",
            " [  0 700   7 ...   0   0   0]\n",
            " [  0   4 743 ...   0   0   0]\n",
            " ...\n",
            " [  0   1   0 ...  88   0   0]\n",
            " [  0   0   0 ...   0  43   0]\n",
            " [  0   0   0 ...   0   1  89]]\n",
            "Accuracy: 94.30%\n",
            "Precision: 0.95\n",
            "Recall: 0.94\n",
            "F1 Score: 0.94\n"
          ]
        }
      ]
    },
    {
      "cell_type": "markdown",
      "source": [
        "# Show a few example predictions"
      ],
      "metadata": {
        "id": "FVuXoGGQuh-t"
      }
    },
    {
      "cell_type": "code",
      "source": [
        "def show_predictions(images, labels, model, num=5):\n",
        "    if len(images) > 0:\n",
        "        indices = np.random.choice(len(images), num, replace=False)\n",
        "        for i in indices:\n",
        "            image = images[i]\n",
        "            true_label = np.argmax(labels[i])\n",
        "            prediction = np.argmax(model.predict(image.reshape(1, TARGET_SIZE[0], TARGET_SIZE[1], 3)))\n",
        "            true_sign_name = sign_id_to_name.get(true_label, \"Unknown\")\n",
        "            predicted_sign_name = sign_id_to_name.get(prediction, \"Unknown\")\n",
        "            plt.imshow((image * 255).astype(np.uint8))  # Convert back to 0-255 range for display\n",
        "            plt.title(f'True: {true_sign_name}, Predicted: {predicted_sign_name}')\n",
        "            plt.axis('off')\n",
        "            plt.show()"
      ],
      "metadata": {
        "trusted": true,
        "id": "1XajJ-Qyuh-t"
      },
      "outputs": [],
      "execution_count": null
    },
    {
      "cell_type": "markdown",
      "source": [
        "# Show some predictions"
      ],
      "metadata": {
        "id": "dUZ5Xi-Guh-t"
      }
    },
    {
      "cell_type": "code",
      "source": [
        "show_predictions(test_images, test_labels, model)"
      ],
      "metadata": {
        "trusted": true,
        "id": "zinQkboFuh-t",
        "outputId": "5c96f124-d699-4bc6-c8a2-5c673c2a2311",
        "colab": {
          "base_uri": "https://localhost:8080/",
          "height": 1000
        }
      },
      "outputs": [
        {
          "output_type": "stream",
          "name": "stdout",
          "text": [
            "\u001b[1m1/1\u001b[0m \u001b[32m━━━━━━━━━━━━━━━━━━━━\u001b[0m\u001b[37m\u001b[0m \u001b[1m1s\u001b[0m 932ms/step\n"
          ]
        },
        {
          "output_type": "display_data",
          "data": {
            "text/plain": [
              "<Figure size 640x480 with 1 Axes>"
            ],
            "image/png": "[encoded data removed]"
          },
          "metadata": {}
        },
        {
          "output_type": "stream",
          "name": "stdout",
          "text": [
            "\u001b[1m1/1\u001b[0m \u001b[32m━━━━━━━━━━━━━━━━━━━━\u001b[0m\u001b[37m\u001b[0m \u001b[1m0s\u001b[0m 18ms/step\n"
          ]
        },
        {
          "output_type": "display_data",
          "data": {
            "text/plain": [
              "<Figure size 640x480 with 1 Axes>"
            ],
            "image/png": "[encoded data removed]"
          },
          "metadata": {}
        },
        {
          "output_type": "stream",
          "name": "stdout",
          "text": [
            "\u001b[1m1/1\u001b[0m \u001b[32m━━━━━━━━━━━━━━━━━━━━\u001b[0m\u001b[37m\u001b[0m \u001b[1m0s\u001b[0m 16ms/step\n"
          ]
        },
        {
          "output_type": "display_data",
          "data": {
            "text/plain": [
              "<Figure size 640x480 with 1 Axes>"
            ],
            "image/png": "[encoded data removed]"
          },
          "metadata": {}
        },
        {
          "output_type": "stream",
          "name": "stdout",
          "text": [
            "\u001b[1m1/1\u001b[0m \u001b[32m━━━━━━━━━━━━━━━━━━━━\u001b[0m\u001b[37m\u001b[0m \u001b[1m0s\u001b[0m 17ms/step\n"
          ]
        },
        {
          "output_type": "display_data",
          "data": {
            "text/plain": [
              "<Figure size 640x480 with 1 Axes>"
            ],
            "image/png": "[encoded data removed]"
          },
          "metadata": {}
        },
        {
          "output_type": "stream",
          "name": "stdout",
          "text": [
            "\u001b[1m1/1\u001b[0m \u001b[32m━━━━━━━━━━━━━━━━━━━━\u001b[0m\u001b[37m\u001b[0m \u001b[1m0s\u001b[0m 17ms/step\n"
          ]
        },
        {
          "output_type": "display_data",
          "data": {
            "text/plain": [
              "<Figure size 640x480 with 1 Axes>"
            ],
            "image/png": "[encoded data removed]"
          },
          "metadata": {}
        }
      ],
      "execution_count": null
    }
  ]
}