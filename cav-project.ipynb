{
 "cells": [
  {
   "cell_type": "code",
   "execution_count": 1,
   "id": "fc37dc81",
   "metadata": {
    "_cell_guid": "b1076dfc-b9ad-4769-8c92-a6c4dae69d19",
    "_uuid": "8f2839f25d086af736a60e9eeb907d3b93b6e0e5",
    "execution": {
     "iopub.execute_input": "2024-11-06T03:51:32.323185Z",
     "iopub.status.busy": "2024-11-06T03:51:32.322455Z",
     "iopub.status.idle": "2024-11-06T03:51:45.914964Z",
     "shell.execute_reply": "2024-11-06T03:51:45.913932Z"
    },
    "papermill": {
     "duration": 13.607429,
     "end_time": "2024-11-06T03:51:45.917391",
     "exception": false,
     "start_time": "2024-11-06T03:51:32.309962",
     "status": "completed"
    },
    "tags": []
   },
   "outputs": [],
   "source": [
    "import os\n",
    "import numpy as np\n",
    "import pandas as pd\n",
    "import matplotlib.pyplot as plt\n",
    "import tensorflow as tf\n",
    "from tensorflow.keras.models import Sequential\n",
    "from tensorflow.keras.applications import MobileNetV2\n",
    "from tensorflow.keras.layers import Conv2D, MaxPooling2D, Dense, Flatten, Dropout, BatchNormalization, GlobalAveragePooling2D\n",
    "from sklearn.model_selection import train_test_split\n",
    "from tensorflow.keras.utils import to_categorical\n",
    "from tensorflow.keras.callbacks import EarlyStopping, ReduceLROnPlateau\n",
    "from PIL import Image\n",
    "import concurrent.futures\n",
    "from sklearn.metrics import confusion_matrix, accuracy_score, precision_score, recall_score, f1_score"
   ]
  },
  {
   "cell_type": "markdown",
   "id": "0cf2ab70",
   "metadata": {
    "papermill": {
     "duration": 0.010036,
     "end_time": "2024-11-06T03:51:45.939152",
     "exception": false,
     "start_time": "2024-11-06T03:51:45.929116",
     "status": "completed"
    },
    "tags": []
   },
   "source": [
    "# Enable GPU usage"
   ]
  },
  {
   "cell_type": "code",
   "execution_count": 2,
   "id": "2fc0b667",
   "metadata": {
    "execution": {
     "iopub.execute_input": "2024-11-06T03:51:45.960865Z",
     "iopub.status.busy": "2024-11-06T03:51:45.960318Z",
     "iopub.status.idle": "2024-11-06T03:51:46.187835Z",
     "shell.execute_reply": "2024-11-06T03:51:46.186764Z"
    },
    "papermill": {
     "duration": 0.240811,
     "end_time": "2024-11-06T03:51:46.190028",
     "exception": false,
     "start_time": "2024-11-06T03:51:45.949217",
     "status": "completed"
    },
    "tags": []
   },
   "outputs": [
    {
     "name": "stdout",
     "output_type": "stream",
     "text": [
      "GPU is available and will be used for training.\n"
     ]
    }
   ],
   "source": [
    "physical_devices = tf.config.list_physical_devices('GPU')\n",
    "if len(physical_devices) > 0:\n",
    "    tf.config.experimental.set_memory_growth(physical_devices[0], True)\n",
    "    print(\"GPU is available and will be used for training.\")\n",
    "else:\n",
    "    print(\"GPU is not available. Using CPU.\")"
   ]
  },
  {
   "cell_type": "markdown",
   "id": "2675bedf",
   "metadata": {
    "papermill": {
     "duration": 0.010064,
     "end_time": "2024-11-06T03:51:46.210590",
     "exception": false,
     "start_time": "2024-11-06T03:51:46.200526",
     "status": "completed"
    },
    "tags": []
   },
   "source": [
    "# Paths to your Train and Test folders (update these paths)"
   ]
  },
  {
   "cell_type": "code",
   "execution_count": 3,
   "id": "27636b2b",
   "metadata": {
    "execution": {
     "iopub.execute_input": "2024-11-06T03:51:46.232243Z",
     "iopub.status.busy": "2024-11-06T03:51:46.231916Z",
     "iopub.status.idle": "2024-11-06T03:51:46.236357Z",
     "shell.execute_reply": "2024-11-06T03:51:46.235453Z"
    },
    "papermill": {
     "duration": 0.017575,
     "end_time": "2024-11-06T03:51:46.238378",
     "exception": false,
     "start_time": "2024-11-06T03:51:46.220803",
     "status": "completed"
    },
    "tags": []
   },
   "outputs": [],
   "source": [
    "TRAIN_DIR = \"/kaggle/input/gtsrb-german-traffic-sign\"\n",
    "TEST_DIR = \"/kaggle/input/gtsrb-german-traffic-sign\"\n",
    "META_CSV = \"/kaggle/input/gtsrb-german-traffic-sign/Meta.csv\"\n",
    "TRAIN_CSV = \"/kaggle/input/gtsrb-german-traffic-sign/Train.csv\"\n",
    "TEST_CSV = \"/kaggle/input/gtsrb-german-traffic-sign/Test.csv\""
   ]
  },
  {
   "cell_type": "markdown",
   "id": "3099b0cc",
   "metadata": {
    "papermill": {
     "duration": 0.010072,
     "end_time": "2024-11-06T03:51:46.258696",
     "exception": false,
     "start_time": "2024-11-06T03:51:46.248624",
     "status": "completed"
    },
    "tags": []
   },
   "source": [
    "# Load CSV data"
   ]
  },
  {
   "cell_type": "code",
   "execution_count": 4,
   "id": "2fd1786a",
   "metadata": {
    "execution": {
     "iopub.execute_input": "2024-11-06T03:51:46.280826Z",
     "iopub.status.busy": "2024-11-06T03:51:46.279970Z",
     "iopub.status.idle": "2024-11-06T03:51:46.402312Z",
     "shell.execute_reply": "2024-11-06T03:51:46.401550Z"
    },
    "papermill": {
     "duration": 0.135914,
     "end_time": "2024-11-06T03:51:46.404680",
     "exception": false,
     "start_time": "2024-11-06T03:51:46.268766",
     "status": "completed"
    },
    "tags": []
   },
   "outputs": [],
   "source": [
    "meta_df = pd.read_csv(META_CSV)\n",
    "train_df = pd.read_csv(TRAIN_CSV)\n",
    "test_df = pd.read_csv(TEST_CSV)"
   ]
  },
  {
   "cell_type": "markdown",
   "id": "9cdfed3c",
   "metadata": {
    "papermill": {
     "duration": 0.010182,
     "end_time": "2024-11-06T03:51:46.425622",
     "exception": false,
     "start_time": "2024-11-06T03:51:46.415440",
     "status": "completed"
    },
    "tags": []
   },
   "source": [
    "# Create a dictionary to map SignId to Sign names from Meta.csv"
   ]
  },
  {
   "cell_type": "code",
   "execution_count": 5,
   "id": "958d16d2",
   "metadata": {
    "execution": {
     "iopub.execute_input": "2024-11-06T03:51:46.447515Z",
     "iopub.status.busy": "2024-11-06T03:51:46.446795Z",
     "iopub.status.idle": "2024-11-06T03:51:46.454609Z",
     "shell.execute_reply": "2024-11-06T03:51:46.453757Z"
    },
    "papermill": {
     "duration": 0.020897,
     "end_time": "2024-11-06T03:51:46.456530",
     "exception": false,
     "start_time": "2024-11-06T03:51:46.435633",
     "status": "completed"
    },
    "tags": []
   },
   "outputs": [],
   "source": [
    "sign_id_to_name = {\n",
    "    0: \"Speed limit (20km/h)\",\n",
    "    1: \"Speed limit (30km/h)\",\n",
    "    2: \"Speed limit (50km/h)\",\n",
    "    3: \"Speed limit (60km/h)\",\n",
    "    4: \"Speed limit (70km/h)\",\n",
    "    5: \"Speed limit (80km/h)\",\n",
    "    6: \"End of speed limit (80km/h)\",\n",
    "    7: \"Speed limit (100km/h)\",\n",
    "    8: \"Speed limit (120km/h)\",\n",
    "    9: \"No passing\",\n",
    "    10: \"No passing for vehicles over 3.5 metric tons\",\n",
    "    11: \"Right-of-way at the next intersection\",\n",
    "    12: \"Priority road\",\n",
    "    13: \"Yield\",\n",
    "    14: \"Stop\",\n",
    "    15: \"No vehicles\",\n",
    "    16: \"Vehicles over 3.5 metric tons prohibited\",\n",
    "    17: \"No entry\",\n",
    "    18: \"General caution\",\n",
    "    19: \"Dangerous curve to the left\",\n",
    "    20: \"Dangerous curve to the right\",\n",
    "    21: \"Double curve\",\n",
    "    22: \"Bumpy road\",\n",
    "    23: \"Slippery road\",\n",
    "    24: \"Road narrows on the right\",\n",
    "    25: \"Road work\",\n",
    "    26: \"Traffic signals\",\n",
    "    27: \"Pedestrians\",\n",
    "    28: \"Children crossing\",\n",
    "    29: \"Bicycles crossing\",\n",
    "    30: \"Beware of ice/snow\",\n",
    "    31: \"Wild animals crossing\",\n",
    "    32: \"End of all speed and passing limits\",\n",
    "    33: \"Turn right ahead\",\n",
    "    34: \"Turn left ahead\",\n",
    "    35: \"Ahead only\",\n",
    "    36: \"Go straight or right\",\n",
    "    37: \"Go straight or left\",\n",
    "    38: \"Keep right\",\n",
    "    39: \"Keep left\",\n",
    "    40: \"Roundabout mandatory\",\n",
    "    41: \"End of no passing\",\n",
    "    42: \"End of no passing by vehicles over 3.5 metric tons\"\n",
    "}"
   ]
  },
  {
   "cell_type": "code",
   "execution_count": 6,
   "id": "d23f149a",
   "metadata": {
    "execution": {
     "iopub.execute_input": "2024-11-06T03:51:46.477929Z",
     "iopub.status.busy": "2024-11-06T03:51:46.477620Z",
     "iopub.status.idle": "2024-11-06T03:51:46.481618Z",
     "shell.execute_reply": "2024-11-06T03:51:46.480766Z"
    },
    "papermill": {
     "duration": 0.016933,
     "end_time": "2024-11-06T03:51:46.483614",
     "exception": false,
     "start_time": "2024-11-06T03:51:46.466681",
     "status": "completed"
    },
    "tags": []
   },
   "outputs": [],
   "source": [
    "TARGET_SIZE = (75, 75)  # Define a consistent size for all images"
   ]
  },
  {
   "cell_type": "markdown",
   "id": "0fe43594",
   "metadata": {
    "papermill": {
     "duration": 0.010004,
     "end_time": "2024-11-06T03:51:46.503614",
     "exception": false,
     "start_time": "2024-11-06T03:51:46.493610",
     "status": "completed"
    },
    "tags": []
   },
   "source": [
    "# Loading and resizing image"
   ]
  },
  {
   "cell_type": "code",
   "execution_count": 7,
   "id": "ae3840f5",
   "metadata": {
    "execution": {
     "iopub.execute_input": "2024-11-06T03:51:46.525672Z",
     "iopub.status.busy": "2024-11-06T03:51:46.524836Z",
     "iopub.status.idle": "2024-11-06T03:51:46.530356Z",
     "shell.execute_reply": "2024-11-06T03:51:46.529495Z"
    },
    "papermill": {
     "duration": 0.018564,
     "end_time": "2024-11-06T03:51:46.532220",
     "exception": false,
     "start_time": "2024-11-06T03:51:46.513656",
     "status": "completed"
    },
    "tags": []
   },
   "outputs": [],
   "source": [
    "def load_image(image_path, roi_coords=None):\n",
    "    image = Image.open(image_path).convert('RGB')  # Ensure 3 channels (RGB)\n",
    "    if roi_coords:\n",
    "        image = image.crop(roi_coords)  # Crop based on the provided coordinates\n",
    "    image = image.resize(TARGET_SIZE)  # Resize to target size\n",
    "    return np.array(image, dtype=np.float32)"
   ]
  },
  {
   "cell_type": "markdown",
   "id": "30574708",
   "metadata": {
    "papermill": {
     "duration": 0.009836,
     "end_time": "2024-11-06T03:51:46.552087",
     "exception": false,
     "start_time": "2024-11-06T03:51:46.542251",
     "status": "completed"
    },
    "tags": []
   },
   "source": [
    "# Loading training data with ThreadPoolExecutor for parallelism"
   ]
  },
  {
   "cell_type": "code",
   "execution_count": 8,
   "id": "7f7fe6e3",
   "metadata": {
    "execution": {
     "iopub.execute_input": "2024-11-06T03:51:46.573333Z",
     "iopub.status.busy": "2024-11-06T03:51:46.573046Z",
     "iopub.status.idle": "2024-11-06T03:51:46.580323Z",
     "shell.execute_reply": "2024-11-06T03:51:46.579507Z"
    },
    "papermill": {
     "duration": 0.020164,
     "end_time": "2024-11-06T03:51:46.582206",
     "exception": false,
     "start_time": "2024-11-06T03:51:46.562042",
     "status": "completed"
    },
    "tags": []
   },
   "outputs": [],
   "source": [
    "def load_train_data(train_csv, data_dir):\n",
    "    images = []\n",
    "    labels = []\n",
    "    with concurrent.futures.ThreadPoolExecutor() as executor:\n",
    "        future_to_image = {}\n",
    "        for _, row in train_csv.iterrows():\n",
    "            image_path = os.path.join(data_dir, row['Path'])\n",
    "            roi_coords = (row['Roi.X1'], row['Roi.Y1'], row['Roi.X2'], row['Roi.Y2'])\n",
    "            future = executor.submit(load_image, image_path, roi_coords)\n",
    "            future_to_image[future] = row['ClassId']\n",
    "\n",
    "        for future in concurrent.futures.as_completed(future_to_image):\n",
    "            image = future.result()\n",
    "            label = future_to_image[future]\n",
    "            images.append(image)\n",
    "            labels.append(label)\n",
    "\n",
    "    images = np.stack(images, axis=0)  # Stack images into a uniform array\n",
    "    labels = np.array(labels)\n",
    "    return images, labels"
   ]
  },
  {
   "cell_type": "markdown",
   "id": "2518d0f8",
   "metadata": {
    "papermill": {
     "duration": 0.009878,
     "end_time": "2024-11-06T03:51:46.602023",
     "exception": false,
     "start_time": "2024-11-06T03:51:46.592145",
     "status": "completed"
    },
    "tags": []
   },
   "source": [
    "# Loading test data with ThreadPoolExecutor for parallelism"
   ]
  },
  {
   "cell_type": "code",
   "execution_count": 9,
   "id": "b8b86d5c",
   "metadata": {
    "execution": {
     "iopub.execute_input": "2024-11-06T03:51:46.623204Z",
     "iopub.status.busy": "2024-11-06T03:51:46.622919Z",
     "iopub.status.idle": "2024-11-06T03:51:46.630103Z",
     "shell.execute_reply": "2024-11-06T03:51:46.629244Z"
    },
    "papermill": {
     "duration": 0.020034,
     "end_time": "2024-11-06T03:51:46.632021",
     "exception": false,
     "start_time": "2024-11-06T03:51:46.611987",
     "status": "completed"
    },
    "tags": []
   },
   "outputs": [],
   "source": [
    "def load_test_data(test_csv, data_dir):\n",
    "    images = []\n",
    "    labels = []\n",
    "    with concurrent.futures.ThreadPoolExecutor() as executor:\n",
    "        future_to_image = {}\n",
    "        for _, row in test_csv.iterrows():\n",
    "            image_path = os.path.join(data_dir, row['Path'])\n",
    "            roi_coords = (row['Roi.X1'], row['Roi.Y1'], row['Roi.X2'], row['Roi.Y2'])\n",
    "            future = executor.submit(load_image, image_path, roi_coords)\n",
    "            future_to_image[future] = row['ClassId']\n",
    "        \n",
    "        for future in concurrent.futures.as_completed(future_to_image):\n",
    "            image = future.result()\n",
    "            label = future_to_image[future]\n",
    "            images.append(image)\n",
    "            labels.append(label)\n",
    "    \n",
    "    images = np.stack(images, axis=0)  # Stack images into a uniform array\n",
    "    labels = np.array(labels)\n",
    "    return images, labels"
   ]
  },
  {
   "cell_type": "markdown",
   "id": "3c8d6cd2",
   "metadata": {
    "papermill": {
     "duration": 0.009842,
     "end_time": "2024-11-06T03:51:46.651824",
     "exception": false,
     "start_time": "2024-11-06T03:51:46.641982",
     "status": "completed"
    },
    "tags": []
   },
   "source": [
    "# Load the training and testing data"
   ]
  },
  {
   "cell_type": "code",
   "execution_count": 10,
   "id": "9744060b",
   "metadata": {
    "execution": {
     "iopub.execute_input": "2024-11-06T03:51:46.672929Z",
     "iopub.status.busy": "2024-11-06T03:51:46.672648Z",
     "iopub.status.idle": "2024-11-06T03:52:45.445565Z",
     "shell.execute_reply": "2024-11-06T03:52:45.444709Z"
    },
    "papermill": {
     "duration": 58.786248,
     "end_time": "2024-11-06T03:52:45.447998",
     "exception": false,
     "start_time": "2024-11-06T03:51:46.661750",
     "status": "completed"
    },
    "tags": []
   },
   "outputs": [],
   "source": [
    "train_images, train_labels = load_train_data(train_df, TRAIN_DIR)\n",
    "test_images, test_labels = load_test_data(test_df, TEST_DIR)"
   ]
  },
  {
   "cell_type": "markdown",
   "id": "944e9075",
   "metadata": {
    "papermill": {
     "duration": 0.010202,
     "end_time": "2024-11-06T03:52:45.468933",
     "exception": false,
     "start_time": "2024-11-06T03:52:45.458731",
     "status": "completed"
    },
    "tags": []
   },
   "source": [
    "# Normalize image data"
   ]
  },
  {
   "cell_type": "code",
   "execution_count": 11,
   "id": "a921d15e",
   "metadata": {
    "execution": {
     "iopub.execute_input": "2024-11-06T03:52:45.490651Z",
     "iopub.status.busy": "2024-11-06T03:52:45.490278Z",
     "iopub.status.idle": "2024-11-06T03:52:46.513704Z",
     "shell.execute_reply": "2024-11-06T03:52:46.512857Z"
    },
    "papermill": {
     "duration": 1.037177,
     "end_time": "2024-11-06T03:52:46.516159",
     "exception": false,
     "start_time": "2024-11-06T03:52:45.478982",
     "status": "completed"
    },
    "tags": []
   },
   "outputs": [],
   "source": [
    "train_images = train_images / 255.0\n",
    "test_images = test_images / 255.0"
   ]
  },
  {
   "cell_type": "markdown",
   "id": "f2d0636f",
   "metadata": {
    "papermill": {
     "duration": 0.010099,
     "end_time": "2024-11-06T03:52:46.536782",
     "exception": false,
     "start_time": "2024-11-06T03:52:46.526683",
     "status": "completed"
    },
    "tags": []
   },
   "source": [
    "# Convert labels to one-hot encoding"
   ]
  },
  {
   "cell_type": "code",
   "execution_count": 12,
   "id": "35e9e619",
   "metadata": {
    "execution": {
     "iopub.execute_input": "2024-11-06T03:52:46.558334Z",
     "iopub.status.busy": "2024-11-06T03:52:46.557968Z",
     "iopub.status.idle": "2024-11-06T03:52:46.566750Z",
     "shell.execute_reply": "2024-11-06T03:52:46.565975Z"
    },
    "papermill": {
     "duration": 0.021966,
     "end_time": "2024-11-06T03:52:46.568743",
     "exception": false,
     "start_time": "2024-11-06T03:52:46.546777",
     "status": "completed"
    },
    "tags": []
   },
   "outputs": [],
   "source": [
    "train_labels = to_categorical(train_labels, num_classes=43)\n",
    "test_labels = to_categorical(test_labels, num_classes=43)"
   ]
  },
  {
   "cell_type": "markdown",
   "id": "bae1b2d6",
   "metadata": {
    "papermill": {
     "duration": 0.009869,
     "end_time": "2024-11-06T03:52:46.589110",
     "exception": false,
     "start_time": "2024-11-06T03:52:46.579241",
     "status": "completed"
    },
    "tags": []
   },
   "source": [
    "# Train/validation split"
   ]
  },
  {
   "cell_type": "code",
   "execution_count": 13,
   "id": "7959c875",
   "metadata": {
    "execution": {
     "iopub.execute_input": "2024-11-06T03:52:46.610459Z",
     "iopub.status.busy": "2024-11-06T03:52:46.610124Z",
     "iopub.status.idle": "2024-11-06T03:52:47.400350Z",
     "shell.execute_reply": "2024-11-06T03:52:47.399309Z"
    },
    "papermill": {
     "duration": 0.803702,
     "end_time": "2024-11-06T03:52:47.402788",
     "exception": false,
     "start_time": "2024-11-06T03:52:46.599086",
     "status": "completed"
    },
    "tags": []
   },
   "outputs": [],
   "source": [
    "train_images, val_images, train_labels, val_labels = train_test_split(train_images, train_labels, test_size=0.2, random_state=42)"
   ]
  },
  {
   "cell_type": "markdown",
   "id": "386772c0",
   "metadata": {
    "papermill": {
     "duration": 0.009984,
     "end_time": "2024-11-06T03:52:47.423078",
     "exception": false,
     "start_time": "2024-11-06T03:52:47.413094",
     "status": "completed"
    },
    "tags": []
   },
   "source": [
    "# Use a pre-trained model (MobileNetV2) for feature extraction"
   ]
  },
  {
   "cell_type": "code",
   "execution_count": 14,
   "id": "56808929",
   "metadata": {
    "execution": {
     "iopub.execute_input": "2024-11-06T03:52:47.444750Z",
     "iopub.status.busy": "2024-11-06T03:52:47.444399Z",
     "iopub.status.idle": "2024-11-06T03:52:48.784413Z",
     "shell.execute_reply": "2024-11-06T03:52:48.783600Z"
    },
    "papermill": {
     "duration": 1.353399,
     "end_time": "2024-11-06T03:52:48.786788",
     "exception": false,
     "start_time": "2024-11-06T03:52:47.433389",
     "status": "completed"
    },
    "tags": []
   },
   "outputs": [
    {
     "name": "stderr",
     "output_type": "stream",
     "text": [
      "/tmp/ipykernel_23/3952067719.py:1: UserWarning: `input_shape` is undefined or non-square, or `rows` is not in [96, 128, 160, 192, 224]. Weights for input shape (224, 224) will be loaded as the default.\n",
      "  base_model = MobileNetV2(weights='imagenet', include_top=False, input_shape=(TARGET_SIZE[0], TARGET_SIZE[1], 3))\n"
     ]
    },
    {
     "name": "stdout",
     "output_type": "stream",
     "text": [
      "Downloading data from https://storage.googleapis.com/tensorflow/keras-applications/mobilenet_v2/mobilenet_v2_weights_tf_dim_ordering_tf_kernels_1.0_224_no_top.h5\n",
      "\u001b[1m9406464/9406464\u001b[0m \u001b[32m━━━━━━━━━━━━━━━━━━━━\u001b[0m\u001b[37m\u001b[0m \u001b[1m0s\u001b[0m 0us/step\n"
     ]
    }
   ],
   "source": [
    "base_model = MobileNetV2(weights='imagenet', include_top=False, input_shape=(TARGET_SIZE[0], TARGET_SIZE[1], 3))\n",
    "base_model.trainable = True  # Unfreeze some layers for fine-tuning"
   ]
  },
  {
   "cell_type": "markdown",
   "id": "500ac7d5",
   "metadata": {
    "papermill": {
     "duration": 0.010312,
     "end_time": "2024-11-06T03:52:48.807847",
     "exception": false,
     "start_time": "2024-11-06T03:52:48.797535",
     "status": "completed"
    },
    "tags": []
   },
   "source": [
    "# Create the model"
   ]
  },
  {
   "cell_type": "code",
   "execution_count": 15,
   "id": "9724bd3f",
   "metadata": {
    "execution": {
     "iopub.execute_input": "2024-11-06T03:52:48.829868Z",
     "iopub.status.busy": "2024-11-06T03:52:48.829516Z",
     "iopub.status.idle": "2024-11-06T03:52:48.847514Z",
     "shell.execute_reply": "2024-11-06T03:52:48.846712Z"
    },
    "papermill": {
     "duration": 0.031318,
     "end_time": "2024-11-06T03:52:48.849467",
     "exception": false,
     "start_time": "2024-11-06T03:52:48.818149",
     "status": "completed"
    },
    "tags": []
   },
   "outputs": [],
   "source": [
    "model = Sequential([\n",
    "    base_model,\n",
    "    GlobalAveragePooling2D(),\n",
    "    BatchNormalization(),\n",
    "    Dropout(0.4),\n",
    "    Dense(512, activation='relu', kernel_initializer='he_normal'),\n",
    "    BatchNormalization(),\n",
    "    Dropout(0.5),\n",
    "    Dense(256, activation='relu', kernel_initializer='he_normal'),\n",
    "    BatchNormalization(),\n",
    "    Dense(43, activation='softmax')\n",
    "])"
   ]
  },
  {
   "cell_type": "markdown",
   "id": "68f160a0",
   "metadata": {
    "papermill": {
     "duration": 0.010559,
     "end_time": "2024-11-06T03:52:48.870516",
     "exception": false,
     "start_time": "2024-11-06T03:52:48.859957",
     "status": "completed"
    },
    "tags": []
   },
   "source": [
    "# Compile the model"
   ]
  },
  {
   "cell_type": "code",
   "execution_count": 16,
   "id": "8f6d94aa",
   "metadata": {
    "execution": {
     "iopub.execute_input": "2024-11-06T03:52:48.892830Z",
     "iopub.status.busy": "2024-11-06T03:52:48.892220Z",
     "iopub.status.idle": "2024-11-06T03:52:48.906006Z",
     "shell.execute_reply": "2024-11-06T03:52:48.905114Z"
    },
    "papermill": {
     "duration": 0.027024,
     "end_time": "2024-11-06T03:52:48.907885",
     "exception": false,
     "start_time": "2024-11-06T03:52:48.880861",
     "status": "completed"
    },
    "tags": []
   },
   "outputs": [],
   "source": [
    "model.compile(optimizer=tf.keras.optimizers.Adam(learning_rate=0.0001), loss='categorical_crossentropy', metrics=['accuracy'])"
   ]
  },
  {
   "cell_type": "markdown",
   "id": "4896e027",
   "metadata": {
    "papermill": {
     "duration": 0.010159,
     "end_time": "2024-11-06T03:52:48.928388",
     "exception": false,
     "start_time": "2024-11-06T03:52:48.918229",
     "status": "completed"
    },
    "tags": []
   },
   "source": [
    "# Add callbacks for early stopping and learning rate reduction"
   ]
  },
  {
   "cell_type": "code",
   "execution_count": 17,
   "id": "91371e3b",
   "metadata": {
    "execution": {
     "iopub.execute_input": "2024-11-06T03:52:48.950271Z",
     "iopub.status.busy": "2024-11-06T03:52:48.949965Z",
     "iopub.status.idle": "2024-11-06T03:52:48.954442Z",
     "shell.execute_reply": "2024-11-06T03:52:48.953646Z"
    },
    "papermill": {
     "duration": 0.017545,
     "end_time": "2024-11-06T03:52:48.956224",
     "exception": false,
     "start_time": "2024-11-06T03:52:48.938679",
     "status": "completed"
    },
    "tags": []
   },
   "outputs": [],
   "source": [
    "early_stopping = EarlyStopping(monitor='val_accuracy', patience=10, restore_best_weights=True)\n",
    "reduce_lr = ReduceLROnPlateau(monitor='val_loss', factor=0.5, patience=5, min_lr=1e-6)"
   ]
  },
  {
   "cell_type": "markdown",
   "id": "854f77b2",
   "metadata": {
    "papermill": {
     "duration": 0.010183,
     "end_time": "2024-11-06T03:52:48.976812",
     "exception": false,
     "start_time": "2024-11-06T03:52:48.966629",
     "status": "completed"
    },
    "tags": []
   },
   "source": [
    "# Train the model using data augmentation"
   ]
  },
  {
   "cell_type": "code",
   "execution_count": 18,
   "id": "1542925a",
   "metadata": {
    "execution": {
     "iopub.execute_input": "2024-11-06T03:52:48.999292Z",
     "iopub.status.busy": "2024-11-06T03:52:48.998935Z",
     "iopub.status.idle": "2024-11-06T03:57:32.420174Z",
     "shell.execute_reply": "2024-11-06T03:57:32.419301Z"
    },
    "papermill": {
     "duration": 283.435298,
     "end_time": "2024-11-06T03:57:32.422632",
     "exception": false,
     "start_time": "2024-11-06T03:52:48.987334",
     "status": "completed"
    },
    "tags": []
   },
   "outputs": [
    {
     "name": "stdout",
     "output_type": "stream",
     "text": [
      "Epoch 1/20\n"
     ]
    },
    {
     "name": "stderr",
     "output_type": "stream",
     "text": [
      "WARNING: All log messages before absl::InitializeLog() is called are written to STDERR\n",
      "I0000 00:00:1730865200.442001      80 service.cc:145] XLA service 0x7b5fc0002f80 initialized for platform CUDA (this does not guarantee that XLA will be used). Devices:\n",
      "I0000 00:00:1730865200.442071      80 service.cc:153]   StreamExecutor device (0): Tesla P100-PCIE-16GB, Compute Capability 6.0\n"
     ]
    },
    {
     "name": "stdout",
     "output_type": "stream",
     "text": [
      "\u001b[1m  3/490\u001b[0m \u001b[37m━━━━━━━━━━━━━━━━━━━━\u001b[0m \u001b[1m19s\u001b[0m 39ms/step - accuracy: 0.0347 - loss: 4.6047   "
     ]
    },
    {
     "name": "stderr",
     "output_type": "stream",
     "text": [
      "WARNING: All log messages before absl::InitializeLog() is called are written to STDERR\n",
      "I0000 00:00:1730865223.042150      80 asm_compiler.cc:369] ptxas warning : Registers are spilled to local memory in function 'loop_add_multiply_reduce_subtract_fusion_8', 8 bytes spill stores, 8 bytes spill loads\n",
      "\n",
      "I0000 00:00:1730865223.086138      80 device_compiler.h:188] Compiled cluster using XLA!  This line is logged at most once for the lifetime of the process.\n"
     ]
    },
    {
     "name": "stdout",
     "output_type": "stream",
     "text": [
      "\u001b[1m490/490\u001b[0m \u001b[32m━━━━━━━━━━━━━━━━━━━━\u001b[0m\u001b[37m\u001b[0m \u001b[1m75s\u001b[0m 51ms/step - accuracy: 0.2589 - loss: 3.0693 - val_accuracy: 0.4609 - val_loss: 2.1114 - learning_rate: 1.0000e-04\n",
      "Epoch 2/20\n",
      "\u001b[1m  1/490\u001b[0m \u001b[37m━━━━━━━━━━━━━━━━━━━━\u001b[0m \u001b[1m2:37:41\u001b[0m 19s/step - accuracy: 0.2857 - loss: 2.1029"
     ]
    },
    {
     "name": "stderr",
     "output_type": "stream",
     "text": [
      "/opt/conda/lib/python3.10/contextlib.py:153: UserWarning: Your input ran out of data; interrupting training. Make sure that your dataset or generator can generate at least `steps_per_epoch * epochs` batches. You may need to use the `.repeat()` function when building your dataset.\n",
      "  self.gen.throw(typ, value, traceback)\n"
     ]
    },
    {
     "name": "stdout",
     "output_type": "stream",
     "text": [
      "\u001b[1m490/490\u001b[0m \u001b[32m━━━━━━━━━━━━━━━━━━━━\u001b[0m\u001b[37m\u001b[0m \u001b[1m21s\u001b[0m 3ms/step - accuracy: 0.2857 - loss: 2.1029 - val_accuracy: 0.4620 - val_loss: 2.1126 - learning_rate: 1.0000e-04\n",
      "Epoch 3/20\n",
      "\u001b[1m490/490\u001b[0m \u001b[32m━━━━━━━━━━━━━━━━━━━━\u001b[0m\u001b[37m\u001b[0m \u001b[1m19s\u001b[0m 38ms/step - accuracy: 0.7967 - loss: 0.7297 - val_accuracy: 0.7127 - val_loss: 1.0269 - learning_rate: 1.0000e-04\n",
      "Epoch 4/20\n",
      "\u001b[1m490/490\u001b[0m \u001b[32m━━━━━━━━━━━━━━━━━━━━\u001b[0m\u001b[37m\u001b[0m \u001b[1m2s\u001b[0m 3ms/step - accuracy: 0.5714 - loss: 1.4751 - val_accuracy: 0.7123 - val_loss: 1.0277 - learning_rate: 1.0000e-04\n",
      "Epoch 5/20\n",
      "\u001b[1m490/490\u001b[0m \u001b[32m━━━━━━━━━━━━━━━━━━━━\u001b[0m\u001b[37m\u001b[0m \u001b[1m19s\u001b[0m 38ms/step - accuracy: 0.9334 - loss: 0.2497 - val_accuracy: 0.8410 - val_loss: 0.5946 - learning_rate: 1.0000e-04\n",
      "Epoch 6/20\n",
      "\u001b[1m490/490\u001b[0m \u001b[32m━━━━━━━━━━━━━━━━━━━━\u001b[0m\u001b[37m\u001b[0m \u001b[1m2s\u001b[0m 3ms/step - accuracy: 0.8571 - loss: 0.9353 - val_accuracy: 0.8417 - val_loss: 0.5957 - learning_rate: 1.0000e-04\n",
      "Epoch 7/20\n",
      "\u001b[1m490/490\u001b[0m \u001b[32m━━━━━━━━━━━━━━━━━━━━\u001b[0m\u001b[37m\u001b[0m \u001b[1m19s\u001b[0m 38ms/step - accuracy: 0.9716 - loss: 0.1157 - val_accuracy: 0.9319 - val_loss: 0.2546 - learning_rate: 1.0000e-04\n",
      "Epoch 8/20\n",
      "\u001b[1m490/490\u001b[0m \u001b[32m━━━━━━━━━━━━━━━━━━━━\u001b[0m\u001b[37m\u001b[0m \u001b[1m2s\u001b[0m 3ms/step - accuracy: 1.0000 - loss: 0.1336 - val_accuracy: 0.9339 - val_loss: 0.2502 - learning_rate: 1.0000e-04\n",
      "Epoch 9/20\n",
      "\u001b[1m490/490\u001b[0m \u001b[32m━━━━━━━━━━━━━━━━━━━━\u001b[0m\u001b[37m\u001b[0m \u001b[1m19s\u001b[0m 38ms/step - accuracy: 0.9848 - loss: 0.0623 - val_accuracy: 0.9820 - val_loss: 0.0597 - learning_rate: 1.0000e-04\n",
      "Epoch 10/20\n",
      "\u001b[1m490/490\u001b[0m \u001b[32m━━━━━━━━━━━━━━━━━━━━\u001b[0m\u001b[37m\u001b[0m \u001b[1m2s\u001b[0m 3ms/step - accuracy: 0.7143 - loss: 0.4249 - val_accuracy: 0.9813 - val_loss: 0.0620 - learning_rate: 1.0000e-04\n",
      "Epoch 11/20\n",
      "\u001b[1m490/490\u001b[0m \u001b[32m━━━━━━━━━━━━━━━━━━━━\u001b[0m\u001b[37m\u001b[0m \u001b[1m19s\u001b[0m 38ms/step - accuracy: 0.9891 - loss: 0.0446 - val_accuracy: 0.9893 - val_loss: 0.0353 - learning_rate: 1.0000e-04\n",
      "Epoch 12/20\n",
      "\u001b[1m490/490\u001b[0m \u001b[32m━━━━━━━━━━━━━━━━━━━━\u001b[0m\u001b[37m\u001b[0m \u001b[1m2s\u001b[0m 3ms/step - accuracy: 0.8571 - loss: 0.5770 - val_accuracy: 0.9885 - val_loss: 0.0384 - learning_rate: 1.0000e-04\n",
      "Epoch 13/20\n",
      "\u001b[1m490/490\u001b[0m \u001b[32m━━━━━━━━━━━━━━━━━━━━\u001b[0m\u001b[37m\u001b[0m \u001b[1m19s\u001b[0m 38ms/step - accuracy: 0.9919 - loss: 0.0335 - val_accuracy: 0.9909 - val_loss: 0.0318 - learning_rate: 1.0000e-04\n",
      "Epoch 14/20\n",
      "\u001b[1m490/490\u001b[0m \u001b[32m━━━━━━━━━━━━━━━━━━━━\u001b[0m\u001b[37m\u001b[0m \u001b[1m2s\u001b[0m 3ms/step - accuracy: 1.0000 - loss: 0.1109 - val_accuracy: 0.9906 - val_loss: 0.0330 - learning_rate: 1.0000e-04\n",
      "Epoch 15/20\n",
      "\u001b[1m490/490\u001b[0m \u001b[32m━━━━━━━━━━━━━━━━━━━━\u001b[0m\u001b[37m\u001b[0m \u001b[1m19s\u001b[0m 38ms/step - accuracy: 0.9949 - loss: 0.0218 - val_accuracy: 0.9918 - val_loss: 0.0323 - learning_rate: 1.0000e-04\n",
      "Epoch 16/20\n",
      "\u001b[1m490/490\u001b[0m \u001b[32m━━━━━━━━━━━━━━━━━━━━\u001b[0m\u001b[37m\u001b[0m \u001b[1m2s\u001b[0m 3ms/step - accuracy: 0.8571 - loss: 0.5304 - val_accuracy: 0.9906 - val_loss: 0.0360 - learning_rate: 1.0000e-04\n",
      "Epoch 17/20\n",
      "\u001b[1m490/490\u001b[0m \u001b[32m━━━━━━━━━━━━━━━━━━━━\u001b[0m\u001b[37m\u001b[0m \u001b[1m19s\u001b[0m 38ms/step - accuracy: 0.9927 - loss: 0.0270 - val_accuracy: 0.9916 - val_loss: 0.0264 - learning_rate: 1.0000e-04\n",
      "Epoch 18/20\n",
      "\u001b[1m490/490\u001b[0m \u001b[32m━━━━━━━━━━━━━━━━━━━━\u001b[0m\u001b[37m\u001b[0m \u001b[1m2s\u001b[0m 3ms/step - accuracy: 0.8571 - loss: 0.5771 - val_accuracy: 0.9915 - val_loss: 0.0272 - learning_rate: 1.0000e-04\n",
      "Epoch 19/20\n",
      "\u001b[1m490/490\u001b[0m \u001b[32m━━━━━━━━━━━━━━━━━━━━\u001b[0m\u001b[37m\u001b[0m \u001b[1m19s\u001b[0m 38ms/step - accuracy: 0.9960 - loss: 0.0162 - val_accuracy: 0.9938 - val_loss: 0.0211 - learning_rate: 1.0000e-04\n",
      "Epoch 20/20\n",
      "\u001b[1m490/490\u001b[0m \u001b[32m━━━━━━━━━━━━━━━━━━━━\u001b[0m\u001b[37m\u001b[0m \u001b[1m2s\u001b[0m 3ms/step - accuracy: 0.5714 - loss: 1.1530 - val_accuracy: 0.9935 - val_loss: 0.0229 - learning_rate: 1.0000e-04\n"
     ]
    }
   ],
   "source": [
    "steps_per_epoch = max(1, len(train_images) // 64)\n",
    "\n",
    "if len(train_images) > 0:\n",
    "    model.fit(\n",
    "        tf.data.Dataset.from_tensor_slices((train_images, train_labels))\n",
    "        .map(lambda x, y: (tf.image.random_brightness(x, max_delta=0.2), y))\n",
    "        .map(lambda x, y: (tf.image.random_contrast(x, 0.8, 1.2), y))\n",
    "        .shuffle(buffer_size=1024)\n",
    "        .batch(64),\n",
    "        epochs=20,\n",
    "        validation_data=(val_images, val_labels),\n",
    "        steps_per_epoch=steps_per_epoch,\n",
    "        callbacks=[early_stopping, reduce_lr]\n",
    "    )"
   ]
  },
  {
   "cell_type": "markdown",
   "id": "a89a6622",
   "metadata": {
    "papermill": {
     "duration": 0.20614,
     "end_time": "2024-11-06T03:57:32.836382",
     "exception": false,
     "start_time": "2024-11-06T03:57:32.630242",
     "status": "completed"
    },
    "tags": []
   },
   "source": [
    "# Evaluate the model on the validation set"
   ]
  },
  {
   "cell_type": "code",
   "execution_count": 19,
   "id": "445ee70c",
   "metadata": {
    "execution": {
     "iopub.execute_input": "2024-11-06T03:57:33.250730Z",
     "iopub.status.busy": "2024-11-06T03:57:33.250005Z",
     "iopub.status.idle": "2024-11-06T03:57:36.184720Z",
     "shell.execute_reply": "2024-11-06T03:57:36.183599Z"
    },
    "papermill": {
     "duration": 3.144206,
     "end_time": "2024-11-06T03:57:36.186827",
     "exception": false,
     "start_time": "2024-11-06T03:57:33.042621",
     "status": "completed"
    },
    "tags": []
   },
   "outputs": [
    {
     "name": "stdout",
     "output_type": "stream",
     "text": [
      "\u001b[1m246/246\u001b[0m \u001b[32m━━━━━━━━━━━━━━━━━━━━\u001b[0m\u001b[37m\u001b[0m \u001b[1m2s\u001b[0m 7ms/step - accuracy: 0.9950 - loss: 0.0180\n",
      "Validation Accuracy: 99.38%\n"
     ]
    }
   ],
   "source": [
    "val_loss, val_accuracy = model.evaluate(val_images, val_labels)\n",
    "print(f'Validation Accuracy: {val_accuracy * 100:.2f}%')"
   ]
  },
  {
   "cell_type": "markdown",
   "id": "70b1b1f1",
   "metadata": {
    "papermill": {
     "duration": 0.20817,
     "end_time": "2024-11-06T03:57:36.604267",
     "exception": false,
     "start_time": "2024-11-06T03:57:36.396097",
     "status": "completed"
    },
    "tags": []
   },
   "source": [
    "# Predictions for evaluation metrics"
   ]
  },
  {
   "cell_type": "code",
   "execution_count": 20,
   "id": "1c8bea69",
   "metadata": {
    "execution": {
     "iopub.execute_input": "2024-11-06T03:57:37.048720Z",
     "iopub.status.busy": "2024-11-06T03:57:37.048326Z",
     "iopub.status.idle": "2024-11-06T03:57:47.125670Z",
     "shell.execute_reply": "2024-11-06T03:57:47.124731Z"
    },
    "papermill": {
     "duration": 10.309937,
     "end_time": "2024-11-06T03:57:47.128035",
     "exception": false,
     "start_time": "2024-11-06T03:57:36.818098",
     "status": "completed"
    },
    "tags": []
   },
   "outputs": [
    {
     "name": "stdout",
     "output_type": "stream",
     "text": [
      "\u001b[1m395/395\u001b[0m \u001b[32m━━━━━━━━━━━━━━━━━━━━\u001b[0m\u001b[37m\u001b[0m \u001b[1m8s\u001b[0m 13ms/step\n"
     ]
    }
   ],
   "source": [
    "y_pred = model.predict(test_images)\n",
    "y_pred_classes = np.argmax(y_pred, axis=1)\n",
    "y_true_classes = np.argmax(test_labels, axis=1)"
   ]
  },
  {
   "cell_type": "markdown",
   "id": "6dd6b2e4",
   "metadata": {
    "papermill": {
     "duration": 0.250323,
     "end_time": "2024-11-06T03:57:47.594055",
     "exception": false,
     "start_time": "2024-11-06T03:57:47.343732",
     "status": "completed"
    },
    "tags": []
   },
   "source": [
    "# Calculate evaluation metrics"
   ]
  },
  {
   "cell_type": "code",
   "execution_count": 21,
   "id": "7d6196cd",
   "metadata": {
    "execution": {
     "iopub.execute_input": "2024-11-06T03:57:48.018071Z",
     "iopub.status.busy": "2024-11-06T03:57:48.017315Z",
     "iopub.status.idle": "2024-11-06T03:57:48.038767Z",
     "shell.execute_reply": "2024-11-06T03:57:48.037997Z"
    },
    "papermill": {
     "duration": 0.234291,
     "end_time": "2024-11-06T03:57:48.040677",
     "exception": false,
     "start_time": "2024-11-06T03:57:47.806386",
     "status": "completed"
    },
    "tags": []
   },
   "outputs": [],
   "source": [
    "conf_matrix = confusion_matrix(y_true_classes, y_pred_classes)\n",
    "accuracy = accuracy_score(y_true_classes, y_pred_classes)\n",
    "precision = precision_score(y_true_classes, y_pred_classes, average='weighted')\n",
    "recall = recall_score(y_true_classes, y_pred_classes, average='weighted')\n",
    "f1 = f1_score(y_true_classes, y_pred_classes, average='weighted')"
   ]
  },
  {
   "cell_type": "markdown",
   "id": "9ee2a2be",
   "metadata": {
    "papermill": {
     "duration": 0.212343,
     "end_time": "2024-11-06T03:57:48.466990",
     "exception": false,
     "start_time": "2024-11-06T03:57:48.254647",
     "status": "completed"
    },
    "tags": []
   },
   "source": [
    "# Print evaluation metrics"
   ]
  },
  {
   "cell_type": "code",
   "execution_count": 22,
   "id": "5e3d89c6",
   "metadata": {
    "execution": {
     "iopub.execute_input": "2024-11-06T03:57:48.891871Z",
     "iopub.status.busy": "2024-11-06T03:57:48.891109Z",
     "iopub.status.idle": "2024-11-06T03:57:48.897225Z",
     "shell.execute_reply": "2024-11-06T03:57:48.896387Z"
    },
    "papermill": {
     "duration": 0.220086,
     "end_time": "2024-11-06T03:57:48.899294",
     "exception": false,
     "start_time": "2024-11-06T03:57:48.679208",
     "status": "completed"
    },
    "tags": []
   },
   "outputs": [
    {
     "name": "stdout",
     "output_type": "stream",
     "text": [
      "Confusion Matrix:\n",
      "[[ 59   0   0 ...   0   0   0]\n",
      " [  0 714   0 ...   0   0   0]\n",
      " [  0   3 737 ...   0   0   0]\n",
      " ...\n",
      " [  0   0   0 ...  79   0   0]\n",
      " [  0   0   0 ...   0  54   0]\n",
      " [  0   0   0 ...   0   6  75]]\n",
      "Accuracy: 97.08%\n",
      "Precision: 0.97\n",
      "Recall: 0.97\n",
      "F1 Score: 0.97\n"
     ]
    }
   ],
   "source": [
    "print(f'Confusion Matrix:\\n{conf_matrix}')\n",
    "print(f'Accuracy: {accuracy * 100:.2f}%')\n",
    "print(f'Precision: {precision:.2f}')\n",
    "print(f'Recall: {recall:.2f}')\n",
    "print(f'F1 Score: {f1:.2f}')"
   ]
  },
  {
   "cell_type": "markdown",
   "id": "0185f165",
   "metadata": {
    "papermill": {
     "duration": 0.214692,
     "end_time": "2024-11-06T03:57:49.325854",
     "exception": false,
     "start_time": "2024-11-06T03:57:49.111162",
     "status": "completed"
    },
    "tags": []
   },
   "source": [
    "# Show a few example predictions"
   ]
  },
  {
   "cell_type": "code",
   "execution_count": 23,
   "id": "c4dc52e4",
   "metadata": {
    "execution": {
     "iopub.execute_input": "2024-11-06T03:57:49.753613Z",
     "iopub.status.busy": "2024-11-06T03:57:49.753242Z",
     "iopub.status.idle": "2024-11-06T03:57:49.760703Z",
     "shell.execute_reply": "2024-11-06T03:57:49.759816Z"
    },
    "papermill": {
     "duration": 0.222519,
     "end_time": "2024-11-06T03:57:49.762608",
     "exception": false,
     "start_time": "2024-11-06T03:57:49.540089",
     "status": "completed"
    },
    "tags": []
   },
   "outputs": [],
   "source": [
    "def show_predictions(images, labels, model, num=5):\n",
    "    if len(images) > 0:\n",
    "        indices = np.random.choice(len(images), num, replace=False)\n",
    "        for i in indices:\n",
    "            image = images[i]\n",
    "            true_label = np.argmax(labels[i])\n",
    "            prediction = np.argmax(model.predict(image.reshape(1, TARGET_SIZE[0], TARGET_SIZE[1], 3)))\n",
    "            true_sign_name = sign_id_to_name.get(true_label, \"Unknown\")\n",
    "            predicted_sign_name = sign_id_to_name.get(prediction, \"Unknown\")\n",
    "            plt.imshow((image * 255).astype(np.uint8))  # Convert back to 0-255 range for display\n",
    "            plt.title(f'True: {true_sign_name}, Predicted: {predicted_sign_name}')\n",
    "            plt.axis('off')\n",
    "            plt.show()"
   ]
  },
  {
   "cell_type": "markdown",
   "id": "0c2001c4",
   "metadata": {
    "papermill": {
     "duration": 0.266098,
     "end_time": "2024-11-06T03:57:50.243733",
     "exception": false,
     "start_time": "2024-11-06T03:57:49.977635",
     "status": "completed"
    },
    "tags": []
   },
   "source": [
    "# Show some predictions"
   ]
  },
  {
   "cell_type": "code",
   "execution_count": 24,
   "id": "86e4c60f",
   "metadata": {
    "execution": {
     "iopub.execute_input": "2024-11-06T03:57:50.671186Z",
     "iopub.status.busy": "2024-11-06T03:57:50.670538Z",
     "iopub.status.idle": "2024-11-06T03:57:53.370058Z",
     "shell.execute_reply": "2024-11-06T03:57:53.369133Z"
    },
    "papermill": {
     "duration": 2.914977,
     "end_time": "2024-11-06T03:57:53.372093",
     "exception": false,
     "start_time": "2024-11-06T03:57:50.457116",
     "status": "completed"
    },
    "tags": []
   },
   "outputs": [
    {
     "name": "stdout",
     "output_type": "stream",
     "text": [
      "\u001b[1m1/1\u001b[0m \u001b[32m━━━━━━━━━━━━━━━━━━━━\u001b[0m\u001b[37m\u001b[0m \u001b[1m2s\u001b[0m 2s/step\n"
     ]
    },
    {
     "data": {
      "image/png": "[encoded data removed]",
      "text/plain": [
       "<Figure size 640x480 with 1 Axes>"
      ]
     },
     "metadata": {},
     "output_type": "display_data"
    },
    {
     "name": "stdout",
     "output_type": "stream",
     "text": [
      "\u001b[1m1/1\u001b[0m \u001b[32m━━━━━━━━━━━━━━━━━━━━\u001b[0m\u001b[37m\u001b[0m \u001b[1m0s\u001b[0m 20ms/step\n"
     ]
    },
    {
     "data": {
      "image/png": "[encoded data removed]",
      "text/plain": [
       "<Figure size 640x480 with 1 Axes>"
      ]
     },
     "metadata": {},
     "output_type": "display_data"
    },
    {
     "name": "stdout",
     "output_type": "stream",
     "text": [
      "\u001b[1m1/1\u001b[0m \u001b[32m━━━━━━━━━━━━━━━━━━━━\u001b[0m\u001b[37m\u001b[0m \u001b[1m0s\u001b[0m 22ms/step\n"
     ]
    },
    {
     "data": {
      "image/png": "[encoded data removed]",
      "text/plain": [
       "<Figure size 640x480 with 1 Axes>"
      ]
     },
     "metadata": {},
     "output_type": "display_data"
    },
    {
     "name": "stdout",
     "output_type": "stream",
     "text": [
      "\u001b[1m1/1\u001b[0m \u001b[32m━━━━━━━━━━━━━━━━━━━━\u001b[0m\u001b[37m\u001b[0m \u001b[1m0s\u001b[0m 26ms/step\n"
     ]
    },
    {
     "data": {
      "image/png": "[encoded data removed]",
      "text/plain": [
       "<Figure size 640x480 with 1 Axes>"
      ]
     },
     "metadata": {},
     "output_type": "display_data"
    },
    {
     "name": "stdout",
     "output_type": "stream",
     "text": [
      "\u001b[1m1/1\u001b[0m \u001b[32m━━━━━━━━━━━━━━━━━━━━\u001b[0m\u001b[37m\u001b[0m \u001b[1m0s\u001b[0m 20ms/step\n"
     ]
    },
    {
     "data": {
      "image/png": "[encoded data removed]",
      "text/plain": [
       "<Figure size 640x480 with 1 Axes>"
      ]
     },
     "metadata": {},
     "output_type": "display_data"
    }
   ],
   "source": [
    "show_predictions(test_images, test_labels, model)"
   ]
  }
 ],
 "metadata": {
  "kaggle": {
   "accelerator": "gpu",
   "dataSources": [
    {
     "datasetId": 82373,
     "sourceId": 191501,
     "sourceType": "datasetVersion"
    }
   ],
   "dockerImageVersionId": 30787,
   "isGpuEnabled": true,
   "isInternetEnabled": true,
   "language": "python",
   "sourceType": "notebook"
  },
  "kernelspec": {
   "display_name": "Python 3",
   "language": "python",
   "name": "python3"
  },
  "language_info": {
   "codemirror_mode": {
    "name": "ipython",
    "version": 3
   },
   "file_extension": ".py",
   "mimetype": "text/x-python",
   "name": "python",
   "nbconvert_exporter": "python",
   "pygments_lexer": "ipython3",
   "version": "3.10.14"
  },
  "papermill": {
   "default_parameters": {},
   "duration": 386.933801,
   "end_time": "2024-11-06T03:57:56.537795",
   "environment_variables": {},
   "exception": null,
   "input_path": "__notebook__.ipynb",
   "output_path": "__notebook__.ipynb",
   "parameters": {},
   "start_time": "2024-11-06T03:51:29.603994",
   "version": "2.6.0"
  }
 },
 "nbformat": 4,
 "nbformat_minor": 5
}
